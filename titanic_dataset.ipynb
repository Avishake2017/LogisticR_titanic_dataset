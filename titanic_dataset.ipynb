{
  "cells": [
    {
      "metadata": {
        "_uuid": "8f2839f25d086af736a60e9eeb907d3b93b6e0e5",
        "_cell_guid": "b1076dfc-b9ad-4769-8c92-a6c4dae69d19",
        "trusted": true
      },
      "cell_type": "code",
      "source": "# This Python 3 environment comes with many helpful analytics libraries installed\n# It is defined by the kaggle/python docker image: https://github.com/kaggle/docker-python\n# For example, here's several helpful packages to load in \n\nimport numpy as np # linear algebra\nimport pandas as pd # data processing, CSV file I/O (e.g. pd.read_csv)\nimport matplotlib.pyplot as plt\nimport seaborn as sns\n\n# Input data files are available in the \"../input/\" directory.\n# For example, running this (by clicking run or pressing Shift+Enter) will list the files in the input directory\n\nimport os\nprint(os.listdir(\"../input\"))\n\n# Any results you write to the current directory are saved as output.",
      "execution_count": null,
      "outputs": []
    },
    {
      "metadata": {
        "_cell_guid": "79c7e3d0-c299-4dcb-8224-4455121ee9b0",
        "_uuid": "d629ff2d2480ee46fbb7e2d37f6b5fab8052498a",
        "trusted": true
      },
      "cell_type": "code",
      "source": "train = pd.read_csv(\"../input/train.csv\")\ntest = pd.read_csv(\"../input/test.csv\")",
      "execution_count": null,
      "outputs": []
    },
    {
      "metadata": {
        "trusted": true,
        "_uuid": "aefde30617288790df8c4c47a2296c65cc388485"
      },
      "cell_type": "code",
      "source": "train.head()",
      "execution_count": null,
      "outputs": []
    },
    {
      "metadata": {
        "trusted": true,
        "_uuid": "07c91fbf7fdb06c4df7fb9c73e54b34eaaba3f64"
      },
      "cell_type": "code",
      "source": "train.head(10)",
      "execution_count": null,
      "outputs": []
    },
    {
      "metadata": {
        "trusted": true,
        "_uuid": "06f90ce8d901f9c994348eb28b700c850eafe5fa"
      },
      "cell_type": "code",
      "source": "train.info()",
      "execution_count": null,
      "outputs": []
    },
    {
      "metadata": {
        "trusted": true,
        "_uuid": "b50d63ec58a775d18ed4d862af750e7dca215945"
      },
      "cell_type": "code",
      "source": "train.isnull().sum()",
      "execution_count": null,
      "outputs": []
    },
    {
      "metadata": {
        "trusted": true,
        "_uuid": "acfa0f2ab5c05834f90fc4f1718858f94fb946dc"
      },
      "cell_type": "code",
      "source": "g = sns.catplot(x=\"Embarked\", y=\"Survived\", hue=\"Sex\", data=train, kind = \"bar\")",
      "execution_count": null,
      "outputs": []
    },
    {
      "metadata": {
        "trusted": true,
        "_uuid": "20df7e41a0edee0c61f9674a3abd0043fe73ab3d"
      },
      "cell_type": "code",
      "source": "train.describe()",
      "execution_count": null,
      "outputs": []
    },
    {
      "metadata": {
        "trusted": true,
        "_uuid": "cf2daa00826168a39feabdee92e901509932b270"
      },
      "cell_type": "code",
      "source": "sns.catplot(x = \"Pclass\", y = \"Age\", data = train)",
      "execution_count": null,
      "outputs": []
    },
    {
      "metadata": {
        "trusted": true,
        "_uuid": "c9684a336872eb5288f88dd5a84dccd5f5b1eefd"
      },
      "cell_type": "code",
      "source": "import seaborn as sns2",
      "execution_count": null,
      "outputs": []
    },
    {
      "metadata": {
        "trusted": true,
        "_uuid": "f25d8a1a41b632942591405f858373c9d49f7439"
      },
      "cell_type": "code",
      "source": "mean_value = train.Age.mean()\ntrain.Age.fillna(mean_value,inplace=True)\nsns2.distplot(train.Age)",
      "execution_count": null,
      "outputs": []
    },
    {
      "metadata": {
        "trusted": true,
        "_uuid": "f2014af5eb255c91470873a96828fbf1129faaaf"
      },
      "cell_type": "code",
      "source": "Common_values = 'S'\ndata = [train, test]\n\nfor dataset in data:\n    dataset['Embarked'] = dataset['Embarked'].fillna(Common_values)",
      "execution_count": null,
      "outputs": []
    },
    {
      "metadata": {
        "trusted": true,
        "_uuid": "91b3a29c8f9a77e734fe1c475dbdc95cb3b9ca62"
      },
      "cell_type": "code",
      "source": "train.head()",
      "execution_count": null,
      "outputs": []
    },
    {
      "metadata": {
        "trusted": true,
        "_uuid": "b43acbd8284bec5becd2fc10e027113c42da0ac7"
      },
      "cell_type": "code",
      "source": "mean_value=test.Age.mean()\ntest.Age.fillna(mean_value,inplace=True)",
      "execution_count": null,
      "outputs": []
    },
    {
      "metadata": {
        "trusted": true,
        "_uuid": "e881fe1add9ebcb1b29b4c3ef6b8e2e23f8b8a23"
      },
      "cell_type": "code",
      "source": "train.Sex=train.Sex.map({'male':0,'female':1})\ntrain.Embarked=train.Embarked.map({'S':0,'C':1,'Q':2})\ntest.Sex=test.Sex.map({'male':0,'female':1})\ntest.Embarked=test.Embarked.map({'S':0,'C':1,'Q':2})",
      "execution_count": null,
      "outputs": []
    },
    {
      "metadata": {
        "trusted": true,
        "_uuid": "7ccb01e98dfdcd891bda1fe633a7f4565bdc28df"
      },
      "cell_type": "code",
      "source": "mean_value=test.Fare.mean()\ntest.Fare.fillna(mean_value,inplace=True)",
      "execution_count": null,
      "outputs": []
    },
    {
      "metadata": {
        "trusted": true,
        "_uuid": "6c04a4ac4465202e2c1a6503b9029bdb598b2e49"
      },
      "cell_type": "code",
      "source": "train=train.drop(['Name','Cabin','PassengerId','Ticket'],axis=1)\ntest=test.drop(['Name','Cabin','PassengerId','Ticket'],axis=1)",
      "execution_count": null,
      "outputs": []
    },
    {
      "metadata": {
        "trusted": true,
        "_uuid": "3f3c3caca30cbfd514fc1a3a3ea4721f8555b470"
      },
      "cell_type": "code",
      "source": "from sklearn.model_selection import train_test_split\nX = train.drop(['Survived'], axis=1)\nY = train['Survived']\nX_train, X_test, Y_train, Y_test = train_test_split(X, Y, test_size=0.3, random_state=0)",
      "execution_count": null,
      "outputs": []
    },
    {
      "metadata": {
        "trusted": true,
        "_uuid": "e8e72fbf0efa1ae5528ff396676f247d5a76b27b"
      },
      "cell_type": "code",
      "source": "from sklearn.linear_model import LogisticRegression\nlogreg = LogisticRegression()\nlogreg.fit(X_train,Y_train)\nY_pred = logreg.predict(X_test)\n\nacc_log = round(logreg.score(X_train, Y_train) * 100,2)\nprint(round(acc_log,2,), \"%\")",
      "execution_count": null,
      "outputs": []
    }
  ],
  "metadata": {
    "kernelspec": {
      "display_name": "Python 3",
      "language": "python",
      "name": "python3"
    },
    "language_info": {
      "name": "python",
      "version": "3.6.6",
      "mimetype": "text/x-python",
      "codemirror_mode": {
        "name": "ipython",
        "version": 3
      },
      "pygments_lexer": "ipython3",
      "nbconvert_exporter": "python",
      "file_extension": ".py"
    }
  },
  "nbformat": 4,
  "nbformat_minor": 1
}